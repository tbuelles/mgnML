{
 "cells": [
  {
   "cell_type": "code",
   "execution_count": 1,
   "id": "5bc26285",
   "metadata": {},
   "outputs": [],
   "source": [
    "from admcycles import *"
   ]
  },
  {
   "cell_type": "code",
   "execution_count": 6,
   "id": "1e4c4afb",
   "metadata": {},
   "outputs": [
    {
     "data": {
      "text/plain": [
       "1/12"
      ]
     },
     "execution_count": 6,
     "metadata": {},
     "output_type": "execute_result"
    }
   ],
   "source": [
    "g, n = 1, 3\n",
    "psi = {}\n",
    "for i in range(1, n+1):\n",
    "    psi[i] = psiclass(i, g, n)\n",
    "res = psi[1] * psi[2]^2\n",
    "res.evaluate()"
   ]
  },
  {
   "cell_type": "code",
   "execution_count": null,
   "id": "36638285",
   "metadata": {},
   "outputs": [],
   "source": []
  }
 ],
 "metadata": {
  "kernelspec": {
   "display_name": "SageMath 9.8",
   "language": "sage",
   "name": "sagemath"
  },
  "language_info": {
   "codemirror_mode": {
    "name": "ipython",
    "version": 3
   },
   "file_extension": ".py",
   "mimetype": "text/x-python",
   "name": "python",
   "nbconvert_exporter": "python",
   "pygments_lexer": "ipython3",
   "version": "3.10.9"
  }
 },
 "nbformat": 4,
 "nbformat_minor": 5
}
